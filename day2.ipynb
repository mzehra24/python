{
 "cells": [
  {
   "cell_type": "code",
   "execution_count": 4,
   "id": "ad499ee5-03b4-4d52-9e1f-92c22772e78a",
   "metadata": {},
   "outputs": [
    {
     "data": {
      "text/plain": [
       "frozenset({10, 20, 30})"
      ]
     },
     "execution_count": 4,
     "metadata": {},
     "output_type": "execute_result"
    }
   ],
   "source": [
    "s={10,20,30}\n",
    "fs=frozenset(s)\n",
    "fs"
   ]
  },
  {
   "cell_type": "code",
   "execution_count": 18,
   "id": "3b3d43a2-7ac8-4116-be2e-c33be2558774",
   "metadata": {},
   "outputs": [
    {
     "name": "stdout",
     "output_type": "stream",
     "text": [
      "range(0, 10, 2)\n"
     ]
    }
   ],
   "source": [
    "r = range(0,10,2) #values given in bracket is called attribute\n",
    "print(r)"
   ]
  },
  {
   "cell_type": "code",
   "execution_count": 24,
   "id": "4370482f-d1ef-42cf-bba8-250c720cbb22",
   "metadata": {},
   "outputs": [
    {
     "name": "stdout",
     "output_type": "stream",
     "text": [
      "b'\\n\\x14\\x1e'\n"
     ]
    }
   ],
   "source": [
    "#bytes data type\n",
    "i=[10,20,30]\n",
    "b=bytes(i)\n",
    "print(b)"
   ]
  },
  {
   "cell_type": "code",
   "execution_count": 26,
   "id": "9a58de2b-402e-4d5e-abb2-8e5f312301c1",
   "metadata": {
    "scrolled": true
   },
   "outputs": [
    {
     "data": {
      "text/plain": [
       "'A'"
      ]
     },
     "execution_count": 26,
     "metadata": {},
     "output_type": "execute_result"
    }
   ],
   "source": [
    "chr(65)"
   ]
  },
  {
   "cell_type": "code",
   "execution_count": 28,
   "id": "714e6524-6ae8-4f1d-9d79-c11aa890fb36",
   "metadata": {},
   "outputs": [
    {
     "name": "stdout",
     "output_type": "stream",
     "text": [
      "11\n"
     ]
    }
   ],
   "source": [
    "s=\"hello world\"\n",
    "print(len(s))"
   ]
  },
  {
   "cell_type": "code",
   "execution_count": 36,
   "id": "3a8fbc2c-52be-4be4-8891-44c59d8e0eb3",
   "metadata": {},
   "outputs": [
    {
     "name": "stdout",
     "output_type": "stream",
     "text": [
      "67\n",
      "<class 'type'>\n"
     ]
    }
   ],
   "source": [
    "print(str(67))\n",
    "print(type(str))"
   ]
  },
  {
   "cell_type": "code",
   "execution_count": 32,
   "id": "e4681c57-47ca-4a5e-9957-23dd8e89e00a",
   "metadata": {},
   "outputs": [
    {
     "name": "stdout",
     "output_type": "stream",
     "text": [
      "65\n"
     ]
    }
   ],
   "source": [
    "print(ord('A'))"
   ]
  },
  {
   "cell_type": "code",
   "execution_count": 44,
   "id": "8cb0ed5b-5083-4eee-aa98-2bc355950c36",
   "metadata": {},
   "outputs": [
    {
     "data": {
      "text/plain": [
       "'C'"
      ]
     },
     "execution_count": 44,
     "metadata": {},
     "output_type": "execute_result"
    }
   ],
   "source": [
    "chr(67)"
   ]
  },
  {
   "cell_type": "code",
   "execution_count": 46,
   "id": "25fcd2cb-c7c3-405d-9b42-ccf26c1c8193",
   "metadata": {},
   "outputs": [
    {
     "name": "stdout",
     "output_type": "stream",
     "text": [
      "name=lords\n"
     ]
    }
   ],
   "source": [
    "print(\"name={}\".format(\"lords\"))"
   ]
  },
  {
   "cell_type": "code",
   "execution_count": 52,
   "id": "59103b53-1be3-4bbc-8373-ff84b51cc3a5",
   "metadata": {},
   "outputs": [
    {
     "name": "stdout",
     "output_type": "stream",
     "text": [
      "['d', 'l', 'r', 'o', 'w', ' ', 'o', 'l', 'l', 'e', 'h']\n"
     ]
    }
   ],
   "source": [
    "s=\"hello world\"\n",
    "s1=list(reversed(s))\n",
    "print(s1)"
   ]
  },
  {
   "cell_type": "code",
   "execution_count": 54,
   "id": "cbeed488-108b-4d15-896d-e8e31672a6ae",
   "metadata": {},
   "outputs": [
    {
     "name": "stdout",
     "output_type": "stream",
     "text": [
      "0 h\n",
      "1 e\n",
      "2 l\n",
      "3 l\n",
      "4 o\n",
      "5  \n",
      "6 w\n",
      "7 o\n",
      "8 r\n",
      "9 l\n",
      "10 d\n"
     ]
    }
   ],
   "source": [
    "for i ,j in enumerate(s):\n",
    "    print(i,j)"
   ]
  },
  {
   "cell_type": "code",
   "execution_count": 58,
   "id": "8f791313-b9e4-40ad-8cbd-8cb2f4d276e5",
   "metadata": {},
   "outputs": [
    {
     "name": "stdout",
     "output_type": "stream",
     "text": [
      "(0, 'h')\n",
      "(1, 'e')\n",
      "(2, 'l')\n",
      "(3, 'l')\n",
      "(4, 'o')\n",
      "(5, ' ')\n",
      "(6, 'w')\n",
      "(7, 'o')\n",
      "(8, 'r')\n",
      "(9, 'l')\n",
      "(10, 'd')\n"
     ]
    }
   ],
   "source": [
    "for j in enumerate(s):\n",
    "    print(j)"
   ]
  },
  {
   "cell_type": "code",
   "execution_count": 64,
   "id": "d63b4fcd-f70c-4151-8b26-a0d6ea413cb4",
   "metadata": {},
   "outputs": [
    {
     "name": "stdout",
     "output_type": "stream",
     "text": [
      "SHOPPING MALL\n",
      "shopping mall\n"
     ]
    }
   ],
   "source": [
    "st =\"shopping mall\"\n",
    "print(st.upper())\n",
    "print(st.lower())"
   ]
  },
  {
   "cell_type": "code",
   "execution_count": 78,
   "id": "067972ca-602b-4e0b-a2ae-c910adef2467",
   "metadata": {},
   "outputs": [
    {
     "name": "stdout",
     "output_type": "stream",
     "text": [
      "Hello Good Evening!\n"
     ]
    }
   ],
   "source": [
    "s2=\"Hello good Evening!\"\n",
    "print(s2.title())"
   ]
  },
  {
   "cell_type": "code",
   "execution_count": 72,
   "id": "9fdb6398-2978-4c91-8e74-5032930c2394",
   "metadata": {},
   "outputs": [
    {
     "name": "stdout",
     "output_type": "stream",
     "text": [
      "Hello good evening!\n"
     ]
    }
   ],
   "source": [
    "print(s2.capitalize())"
   ]
  },
  {
   "cell_type": "code",
   "execution_count": 80,
   "id": "947b53b3-6520-49a2-b11c-daca4520b9ae",
   "metadata": {},
   "outputs": [
    {
     "name": "stdout",
     "output_type": "stream",
     "text": [
      "hELLO GOOD eVENING!\n"
     ]
    }
   ],
   "source": [
    "print(s2.swapcase())"
   ]
  },
  {
   "cell_type": "code",
   "execution_count": 82,
   "id": "f6ad2704-c66e-48a9-9a0d-d2c660545b51",
   "metadata": {},
   "outputs": [
    {
     "name": "stdout",
     "output_type": "stream",
     "text": [
      "6\n"
     ]
    }
   ],
   "source": [
    "print(s2.find(\"good\"))"
   ]
  },
  {
   "cell_type": "code",
   "execution_count": 84,
   "id": "f2290130-80b3-4c4e-8fb6-9d704306d4ce",
   "metadata": {},
   "outputs": [
    {
     "name": "stdout",
     "output_type": "stream",
     "text": [
      "-1\n"
     ]
    }
   ],
   "source": [
    "print(s2.find(\"hi\"))"
   ]
  },
  {
   "cell_type": "code",
   "execution_count": 86,
   "id": "43e9a8ab-0253-4135-bd69-4c3e04aa0e65",
   "metadata": {},
   "outputs": [
    {
     "ename": "ValueError",
     "evalue": "substring not found",
     "output_type": "error",
     "traceback": [
      "\u001b[1;31m---------------------------------------------------------------------------\u001b[0m",
      "\u001b[1;31mValueError\u001b[0m                                Traceback (most recent call last)",
      "Cell \u001b[1;32mIn[86], line 1\u001b[0m\n\u001b[1;32m----> 1\u001b[0m \u001b[38;5;28mprint\u001b[39m(\u001b[43ms2\u001b[49m\u001b[38;5;241;43m.\u001b[39;49m\u001b[43mindex\u001b[49m\u001b[43m(\u001b[49m\u001b[38;5;124;43m\"\u001b[39;49m\u001b[38;5;124;43mhi\u001b[39;49m\u001b[38;5;124;43m\"\u001b[39;49m\u001b[43m)\u001b[49m)\n",
      "\u001b[1;31mValueError\u001b[0m: substring not found"
     ]
    }
   ],
   "source": [
    "print(s2.index(\"hi\"))"
   ]
  },
  {
   "cell_type": "code",
   "execution_count": 88,
   "id": "84afa61a-7b55-4ba4-835e-201d01e220c5",
   "metadata": {},
   "outputs": [
    {
     "name": "stdout",
     "output_type": "stream",
     "text": [
      "3\n"
     ]
    }
   ],
   "source": [
    "print(s2.count('o'))"
   ]
  },
  {
   "cell_type": "code",
   "execution_count": 92,
   "id": "dfeadaff-58f1-4125-94dd-718acb6c8f56",
   "metadata": {},
   "outputs": [
    {
     "name": "stdout",
     "output_type": "stream",
     "text": [
      "0\n"
     ]
    }
   ],
   "source": [
    "print(s2.count('p'))"
   ]
  },
  {
   "cell_type": "code",
   "execution_count": 96,
   "id": "4ab8b94c-a0f4-4922-91e6-b1bac7f73835",
   "metadata": {},
   "outputs": [
    {
     "name": "stdout",
     "output_type": "stream",
     "text": [
      "True\n"
     ]
    }
   ],
   "source": [
    "print(s2.startswith(\"Hello\"))"
   ]
  },
  {
   "cell_type": "code",
   "execution_count": 104,
   "id": "e3f85759-7e11-4ea5-bddd-9dff374ce499",
   "metadata": {},
   "outputs": [
    {
     "name": "stdout",
     "output_type": "stream",
     "text": [
      "False\n"
     ]
    }
   ],
   "source": [
    "print(s2.endswith(\"glad\"))"
   ]
  },
  {
   "cell_type": "code",
   "execution_count": 114,
   "id": "d5f4d4ed-2b83-4acf-bf3d-3f2c40dda7d2",
   "metadata": {},
   "outputs": [
    {
     "name": "stdout",
     "output_type": "stream",
     "text": [
      "hello\n",
      "     hello\n",
      "hello         \n",
      "  hello   \n",
      "00000000mz\n"
     ]
    }
   ],
   "source": [
    "s=\"     hello         \"\n",
    "print(s.strip())\n",
    "print(s.rstrip())\n",
    "print(s.lstrip())\n",
    "print(\"hello\".center(10))\n",
    "print(\"mz\".zfill(10))"
   ]
  },
  {
   "cell_type": "code",
   "execution_count": 122,
   "id": "02b28211-1795-4ac0-84cc-c6d39c21dd46",
   "metadata": {},
   "outputs": [
    {
     "name": "stdout",
     "output_type": "stream",
     "text": [
      "True\n",
      "False\n",
      "True\n"
     ]
    }
   ],
   "source": [
    "s=\"MasabTank\"\n",
    "print(s.isalpha())\n",
    "print(s.isdigit())\n",
    "print(s.isalnum())"
   ]
  },
  {
   "cell_type": "code",
   "execution_count": 124,
   "id": "7ca2f65c-b221-4673-84f0-289597c2a83e",
   "metadata": {},
   "outputs": [
    {
     "name": "stdout",
     "output_type": "stream",
     "text": [
      "False\n"
     ]
    }
   ],
   "source": [
    "s=\"abc d\"\n",
    "print(s.isspace())"
   ]
  },
  {
   "cell_type": "code",
   "execution_count": 1,
   "id": "cd00a4c2-f1fa-4b7a-8647-ad7d64e1b637",
   "metadata": {},
   "outputs": [
    {
     "name": "stdout",
     "output_type": "stream",
     "text": [
      "['hello', 'good', 'morning', 'everyone']\n"
     ]
    }
   ],
   "source": [
    "s=\"hello good morning everyone\"\n",
    "print(s.split())"
   ]
  },
  {
   "cell_type": "code",
   "execution_count": 7,
   "id": "d7d5e963-f2cc-4b86-aa3f-e993d105abd9",
   "metadata": {},
   "outputs": [
    {
     "name": "stdout",
     "output_type": "stream",
     "text": [
      "hello world\n"
     ]
    }
   ],
   "source": [
    "s=['hello','world']\n",
    "print(\" \".join(s))"
   ]
  },
  {
   "cell_type": "code",
   "execution_count": 15,
   "id": "29eb686d-e218-4817-8f5f-7441ad5ee171",
   "metadata": {},
   "outputs": [
    {
     "name": "stdout",
     "output_type": "stream",
     "text": [
      "7\n",
      "50\n",
      "10\n",
      "170\n"
     ]
    }
   ],
   "source": [
    "l=[10,20,30,40,50,10,10]\n",
    "print(len(l))\n",
    "print(max(l))\n",
    "print(min(l))\n",
    "print(sum(l))"
   ]
  },
  {
   "cell_type": "code",
   "execution_count": 39,
   "id": "55631113-7d75-4850-83bd-eb51097c55a0",
   "metadata": {},
   "outputs": [
    {
     "name": "stdout",
     "output_type": "stream",
     "text": [
      "[10, 10, 10, 20, 30, 40, 50]\n",
      "<class 'list'>\n"
     ]
    }
   ],
   "source": [
    "l1=sorted(l)\n",
    "print(l1)\n",
    "print(type(l1))"
   ]
  },
  {
   "cell_type": "code",
   "execution_count": 43,
   "id": "6228587c-2104-4288-855b-fdcec554e5e9",
   "metadata": {},
   "outputs": [
    {
     "name": "stdout",
     "output_type": "stream",
     "text": [
      "[50, 20, 40, 10, 30]\n"
     ]
    },
    {
     "ename": "TypeError",
     "evalue": "'set' object is not reversible",
     "output_type": "error",
     "traceback": [
      "\u001b[1;31m---------------------------------------------------------------------------\u001b[0m",
      "\u001b[1;31mTypeError\u001b[0m                                 Traceback (most recent call last)",
      "Cell \u001b[1;32mIn[43], line 3\u001b[0m\n\u001b[0;32m      1\u001b[0m l\u001b[38;5;241m=\u001b[39m{\u001b[38;5;241m10\u001b[39m,\u001b[38;5;241m20\u001b[39m,\u001b[38;5;241m30\u001b[39m,\u001b[38;5;241m40\u001b[39m,\u001b[38;5;241m50\u001b[39m,\u001b[38;5;241m10\u001b[39m,\u001b[38;5;241m10\u001b[39m}\n\u001b[0;32m      2\u001b[0m \u001b[38;5;28mprint\u001b[39m(\u001b[38;5;28mlist\u001b[39m(l))\n\u001b[1;32m----> 3\u001b[0m \u001b[38;5;28mprint\u001b[39m(\u001b[38;5;28;43mreversed\u001b[39;49m\u001b[43m(\u001b[49m\u001b[43ml\u001b[49m\u001b[43m)\u001b[49m)\n",
      "\u001b[1;31mTypeError\u001b[0m: 'set' object is not reversible"
     ]
    }
   ],
   "source": [
    "l={10,20,30,40,50,10,10}\n",
    "print(list(l))\n",
    "print(reversed(l))"
   ]
  },
  {
   "cell_type": "code",
   "execution_count": 49,
   "id": "8f864c3c-29c8-4fc7-bb65-72d3e33c59a0",
   "metadata": {},
   "outputs": [
    {
     "name": "stdout",
     "output_type": "stream",
     "text": [
      "0 50\n",
      "1 20\n",
      "2 40\n",
      "3 10\n",
      "4 30\n"
     ]
    }
   ],
   "source": [
    "for i,j in enumerate(l):\n",
    "    print(i,j)"
   ]
  },
  {
   "cell_type": "code",
   "execution_count": 83,
   "id": "8afea7c6-69e9-4407-812f-4ca05c9be825",
   "metadata": {},
   "outputs": [
    {
     "name": "stdout",
     "output_type": "stream",
     "text": [
      "[10, 20, 30, 9]\n",
      "[10, 20, 30, 9]\n",
      "<list_reverseiterator object at 0x000001EADDDAF820>\n"
     ]
    }
   ],
   "source": [
    "l=[10,20,30]\n",
    "l.append(9)\n",
    "print(l)\n",
    "l2=reversed(l)\n",
    "print(list(l))\n",
    "print(l2)"
   ]
  },
  {
   "cell_type": "code",
   "execution_count": 65,
   "id": "4b2b2ddb-731f-49f5-b319-9325699272c4",
   "metadata": {},
   "outputs": [
    {
     "name": "stdout",
     "output_type": "stream",
     "text": [
      "[10, 20, 30, 9, 20, 70, 90, 20, 70, 90]\n"
     ]
    }
   ],
   "source": [
    "l2=[20,70,90]\n",
    "l.extend(l2)\n",
    "print(l)"
   ]
  },
  {
   "cell_type": "code",
   "execution_count": 71,
   "id": "ce28fa5a-cccf-416b-8d97-c5fddf3a3ce3",
   "metadata": {},
   "outputs": [
    {
     "name": "stdout",
     "output_type": "stream",
     "text": [
      "[10, 20, 20, 30, 40]\n"
     ]
    }
   ],
   "source": [
    "l=[10,10,20,20,30,40]\n",
    "l.remove(10)\n",
    "print(l)"
   ]
  },
  {
   "cell_type": "code",
   "execution_count": 77,
   "id": "549d8dfa-a6cd-42c5-9e05-3414da4eecc3",
   "metadata": {},
   "outputs": [
    {
     "name": "stdout",
     "output_type": "stream",
     "text": [
      "[10, 20, 30]\n"
     ]
    }
   ],
   "source": [
    "l.pop(3)\n",
    "print(l)"
   ]
  },
  {
   "cell_type": "code",
   "execution_count": 89,
   "id": "98ec49ec-75e6-4b7c-9ea8-6c155a5b107d",
   "metadata": {},
   "outputs": [
    {
     "name": "stdout",
     "output_type": "stream",
     "text": [
      "[10, 50, 20]\n"
     ]
    }
   ],
   "source": [
    "lit=[20,50,10]\n",
    "lit.reverse()\n",
    "lit_2=reversed(lit)\n",
    "print(lit)"
   ]
  },
  {
   "cell_type": "code",
   "execution_count": 91,
   "id": "de759ee6-8b8e-4303-b183-e23737bd200c",
   "metadata": {},
   "outputs": [
    {
     "data": {
      "text/plain": [
       "0"
      ]
     },
     "execution_count": 91,
     "metadata": {},
     "output_type": "execute_result"
    }
   ],
   "source": [
    "lit.index(10)c"
   ]
  },
  {
   "cell_type": "code",
   "execution_count": 93,
   "id": "fd129a20-9f65-47c1-ac6e-cf2b8a624a77",
   "metadata": {},
   "outputs": [
    {
     "name": "stdout",
     "output_type": "stream",
     "text": [
      "1\n"
     ]
    }
   ],
   "source": [
    "print(lit.count(10))"
   ]
  },
  {
   "cell_type": "code",
   "execution_count": 101,
   "id": "9c26ad2a-a725-4d90-98e2-b59e1368153b",
   "metadata": {},
   "outputs": [
    {
     "name": "stdout",
     "output_type": "stream",
     "text": [
      "[10, 50, 20]\n"
     ]
    }
   ],
   "source": [
    "l1=lit.copy()\n",
    "print(l1)"
   ]
  },
  {
   "cell_type": "code",
   "execution_count": 105,
   "id": "9323e75c-156f-4842-875a-d8aa8b378c5a",
   "metadata": {},
   "outputs": [
    {
     "name": "stdout",
     "output_type": "stream",
     "text": [
      "2108283647744\n",
      "2108282892992\n"
     ]
    }
   ],
   "source": [
    "print(id(l1))\n",
    "print(id(lit))"
   ]
  },
  {
   "cell_type": "code",
   "execution_count": 107,
   "id": "42651b46-f115-4022-87b1-47b09a0290b6",
   "metadata": {},
   "outputs": [],
   "source": [
    "lit=[20,50,10]\n",
    "lit_2=reversed(lit)"
   ]
  },
  {
   "cell_type": "code",
   "execution_count": null,
   "id": "9625d06d-8a08-412e-89d7-b8886b7dbf50",
   "metadata": {},
   "outputs": [],
   "source": []
  }
 ],
 "metadata": {
  "kernelspec": {
   "display_name": "Python 3 (ipykernel)",
   "language": "python",
   "name": "python3"
  },
  "language_info": {
   "codemirror_mode": {
    "name": "ipython",
    "version": 3
   },
   "file_extension": ".py",
   "mimetype": "text/x-python",
   "name": "python",
   "nbconvert_exporter": "python",
   "pygments_lexer": "ipython3",
   "version": "3.12.7"
  }
 },
 "nbformat": 4,
 "nbformat_minor": 5
}
