{
 "cells": [
  {
   "cell_type": "code",
   "execution_count": 1,
   "id": "b7fbb8c5-e571-495c-b23f-7890e6df180d",
   "metadata": {},
   "outputs": [
    {
     "name": "stdout",
     "output_type": "stream",
     "text": [
      "hello good morning\n"
     ]
    }
   ],
   "source": [
    "def sample():\n",
    "    print('hello good morning')\n",
    "sample()"
   ]
  },
  {
   "cell_type": "code",
   "execution_count": 2,
   "id": "7509ea1d-0970-407d-97e3-10841ccaf6d0",
   "metadata": {},
   "outputs": [
    {
     "name": "stdout",
     "output_type": "stream",
     "text": [
      "hello how are you\n"
     ]
    }
   ],
   "source": [
    "def sample(greet):\n",
    "    print('hello',greet)\n",
    "sample(\"how are you\")"
   ]
  },
  {
   "cell_type": "code",
   "execution_count": 3,
   "id": "00180350-ec5e-4102-9c4e-ac691758570b",
   "metadata": {},
   "outputs": [
    {
     "name": "stdout",
     "output_type": "stream",
     "text": [
      "the message from the function is hello\n"
     ]
    }
   ],
   "source": [
    "def sample():\n",
    "    return \"hello\"\n",
    "message=sample()\n",
    "print(\"the message from the function is\",message)"
   ]
  },
  {
   "cell_type": "code",
   "execution_count": 4,
   "id": "6955ec56-e735-49f0-8117-4240d677b904",
   "metadata": {},
   "outputs": [
    {
     "name": "stdout",
     "output_type": "stream",
     "text": [
      "sum is 8\n"
     ]
    }
   ],
   "source": [
    "def add(a,b):\n",
    "    return a+b\n",
    "result=add(5,3)\n",
    "print(\"sum is\",result)"
   ]
  },
  {
   "cell_type": "code",
   "execution_count": null,
   "id": "37c341ef-4c72-4df1-be52-96641bd9d4f9",
   "metadata": {},
   "outputs": [],
   "source": []
  }
 ],
 "metadata": {
  "kernelspec": {
   "display_name": "Python 3 (ipykernel)",
   "language": "python",
   "name": "python3"
  },
  "language_info": {
   "codemirror_mode": {
    "name": "ipython",
    "version": 3
   },
   "file_extension": ".py",
   "mimetype": "text/x-python",
   "name": "python",
   "nbconvert_exporter": "python",
   "pygments_lexer": "ipython3",
   "version": "3.12.7"
  }
 },
 "nbformat": 4,
 "nbformat_minor": 5
}
